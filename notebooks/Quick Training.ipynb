{
 "cells": [
  {
   "cell_type": "code",
   "execution_count": null,
   "id": "cca9e4cb",
   "metadata": {},
   "outputs": [],
   "source": [
    "import pandas as pd"
   ]
  },
  {
   "cell_type": "code",
   "execution_count": null,
   "id": "8c963235",
   "metadata": {},
   "outputs": [],
   "source": [
    "df = pd.read_csv('../data/cyberbullying_tweets_clean.csv')"
   ]
  },
  {
   "cell_type": "code",
   "execution_count": null,
   "id": "b5b4b53a",
   "metadata": {},
   "outputs": [],
   "source": [
    "from sklearn.model_selection import train_test_split\n",
    "X = df.drop('cyberbullying_type',axis=1)\n",
    "y = df['cyberbullying_type']\n",
    "X_train, X_test, y_train, y_test = train_test_split(X, y, test_size=0.2, shuffle=True, stratify=y, random_state=42)"
   ]
  },
  {
   "cell_type": "code",
   "execution_count": null,
   "id": "0fc8eb84",
   "metadata": {},
   "outputs": [],
   "source": [
    "X_train.shape, y_train.shape, X_test.shape, y_test.shape"
   ]
  },
  {
   "cell_type": "code",
   "execution_count": null,
   "id": "7c9faa9d",
   "metadata": {},
   "outputs": [],
   "source": [
    "from sklearn.pipeline import Pipeline\n",
    "from sklearn.compose import ColumnTransformer\n",
    "from sklearn.linear_model import LogisticRegression\n",
    "from sklearn.preprocessing import FunctionTransformer\n",
    "from sklearn.feature_extraction.text import CountVectorizer\n",
    "from sklearn.feature_extraction.text import TfidfTransformer\n",
    "\n",
    "\n",
    "transformer = Pipeline(steps=[('countVectorizer', CountVectorizer()),\n",
    "                                               ('tfIdfTransformer', TfidfTransformer())])\n",
    "\n",
    "preprocessor = ColumnTransformer(transformers=[('transformer', transformer, 'tweet_text')\n",
    "                                              ],remainder='passthrough')\n",
    "\n",
    "\n",
    "classifier = Pipeline(steps=[('logisticRegressionClassifier', LogisticRegression(max_iter=5000))])"
   ]
  },
  {
   "cell_type": "code",
   "execution_count": null,
   "id": "cef4fc79",
   "metadata": {},
   "outputs": [],
   "source": [
    "model = Pipeline(steps=[('preprocessor', preprocessor), \n",
    "                        ('classifier', classifier)])"
   ]
  },
  {
   "cell_type": "code",
   "execution_count": null,
   "id": "02c1e22e",
   "metadata": {},
   "outputs": [],
   "source": [
    "model.fit(X_train, y_train)"
   ]
  },
  {
   "cell_type": "code",
   "execution_count": null,
   "id": "f1418d99",
   "metadata": {},
   "outputs": [],
   "source": [
    "from sklearn.metrics import f1_score\n",
    "\n",
    "y_pred = model.predict(X_test)\n",
    "f1_metric = f1_score(y_test, y_pred, average='weighted')\n",
    "f1_metric"
   ]
  },
  {
   "cell_type": "code",
   "execution_count": null,
   "id": "c4636ea9",
   "metadata": {},
   "outputs": [],
   "source": [
    "# Hyperparameter optimisation\n",
    "\n",
    "from skopt import BayesSearchCV\n",
    "from sklearn.metrics import f1_score, make_scorer\n",
    "\n",
    "f1_scorer = make_scorer(f1_score, average='weighted')\n",
    "\n",
    "tunable_parameters = {\n",
    "    'solver' : ['newton-cg', 'lbfgs', 'liblinear'],\n",
    "    'penalty' : ['l2'],\n",
    "    'C' : [100, 10, 1.0, 0.1, 0.01]\n",
    "}\n",
    "\n",
    "\n",
    "classifier = Pipeline(steps=[('logisticRegressionClassifier', \n",
    "                              BayesSearchCV(LogisticRegression(max_iter=1000), \n",
    "                                            tunable_parameters, \n",
    "                                            n_iter=50, \n",
    "                                            cv=5, \n",
    "                                            scoring=f1_scorer,\n",
    "                                            n_jobs=5))])\n",
    "\n",
    "\n",
    "model = Pipeline(steps=[('preprocessor', preprocessor), \n",
    "                        ('classifier', classifier)])"
   ]
  },
  {
   "cell_type": "code",
   "execution_count": null,
   "id": "608a59d4",
   "metadata": {},
   "outputs": [],
   "source": [
    "model.fit(X_train, y_train)"
   ]
  },
  {
   "cell_type": "code",
   "execution_count": null,
   "id": "4b208b7f",
   "metadata": {},
   "outputs": [],
   "source": [
    "y_pred = model.predict(X_test)\n",
    "f1_metric = f1_score(y_test, y_pred, average='weighted')\n",
    "f1_metric"
   ]
  },
  {
   "cell_type": "code",
   "execution_count": null,
   "id": "416e4b65",
   "metadata": {},
   "outputs": [],
   "source": [
    "# Use trees, explain feature and word importances, make ensemble model finally using XGBoost and Logistic Regression, \n",
    "# Deploy and make a local API to get result for sentence \n",
    "# Maybe a web page that checks twitter URL and returns result?"
   ]
  }
 ],
 "metadata": {
  "kernelspec": {
   "display_name": "Python 3 (ipykernel)",
   "language": "python",
   "name": "python3"
  },
  "language_info": {
   "codemirror_mode": {
    "name": "ipython",
    "version": 3
   },
   "file_extension": ".py",
   "mimetype": "text/x-python",
   "name": "python",
   "nbconvert_exporter": "python",
   "pygments_lexer": "ipython3",
   "version": "3.10.4"
  }
 },
 "nbformat": 4,
 "nbformat_minor": 5
}
